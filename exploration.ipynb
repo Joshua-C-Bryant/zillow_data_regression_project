{
 "cells": [
  {
   "cell_type": "code",
   "execution_count": 97,
   "id": "2a9be5a2",
   "metadata": {},
   "outputs": [],
   "source": [
    "import pandas as pd\n",
    "import numpy as np\n",
    "import matplotlib.pyplot as plt\n",
    "from wrangle import *\n",
    "from explore import *\n",
    "\n",
    "# modeling methods\n",
    "from sklearn.metrics import mean_squared_error, explained_variance_score\n",
    "from sklearn.linear_model import LinearRegression, LassoLars, TweedieRegressor\n",
    "from sklearn.preprocessing import PolynomialFeatures, LabelEncoder, StandardScaler\n",
    "\n",
    "import warnings\n",
    "warnings.filterwarnings(\"ignore\")"
   ]
  },
  {
   "cell_type": "code",
   "execution_count": 38,
   "id": "707b31bd",
   "metadata": {},
   "outputs": [],
   "source": [
    "df = acquire_zillow()"
   ]
  },
  {
   "cell_type": "code",
   "execution_count": 39,
   "id": "97d1d385",
   "metadata": {},
   "outputs": [
    {
     "data": {
      "text/html": [
       "<div>\n",
       "<style scoped>\n",
       "    .dataframe tbody tr th:only-of-type {\n",
       "        vertical-align: middle;\n",
       "    }\n",
       "\n",
       "    .dataframe tbody tr th {\n",
       "        vertical-align: top;\n",
       "    }\n",
       "\n",
       "    .dataframe thead th {\n",
       "        text-align: right;\n",
       "    }\n",
       "</style>\n",
       "<table border=\"1\" class=\"dataframe\">\n",
       "  <thead>\n",
       "    <tr style=\"text-align: right;\">\n",
       "      <th></th>\n",
       "      <th>bedrooms</th>\n",
       "      <th>bathrooms</th>\n",
       "      <th>area</th>\n",
       "      <th>tax_value</th>\n",
       "      <th>year_built</th>\n",
       "      <th>taxamount</th>\n",
       "      <th>fips</th>\n",
       "      <th>propertylandusedesc</th>\n",
       "      <th>transactiondate</th>\n",
       "      <th>latitude</th>\n",
       "      <th>longitude</th>\n",
       "      <th>lotsizesquarefeet</th>\n",
       "      <th>garagecarcnt</th>\n",
       "    </tr>\n",
       "  </thead>\n",
       "  <tbody>\n",
       "    <tr>\n",
       "      <th>0</th>\n",
       "      <td>3.0</td>\n",
       "      <td>2.0</td>\n",
       "      <td>1125.0</td>\n",
       "      <td>289445.0</td>\n",
       "      <td>1974.0</td>\n",
       "      <td>3490.16</td>\n",
       "      <td>6059.0</td>\n",
       "      <td>Condominium</td>\n",
       "      <td>2017-08-04</td>\n",
       "      <td>33922098.0</td>\n",
       "      <td>-117954970.0</td>\n",
       "      <td>NaN</td>\n",
       "      <td>1.0</td>\n",
       "    </tr>\n",
       "    <tr>\n",
       "      <th>1</th>\n",
       "      <td>3.0</td>\n",
       "      <td>2.0</td>\n",
       "      <td>1316.0</td>\n",
       "      <td>205123.0</td>\n",
       "      <td>1923.0</td>\n",
       "      <td>2627.48</td>\n",
       "      <td>6037.0</td>\n",
       "      <td>Single Family Residential</td>\n",
       "      <td>2017-07-21</td>\n",
       "      <td>34033180.0</td>\n",
       "      <td>-118355396.0</td>\n",
       "      <td>5672.0</td>\n",
       "      <td>NaN</td>\n",
       "    </tr>\n",
       "    <tr>\n",
       "      <th>2</th>\n",
       "      <td>3.0</td>\n",
       "      <td>2.0</td>\n",
       "      <td>1458.0</td>\n",
       "      <td>136104.0</td>\n",
       "      <td>1970.0</td>\n",
       "      <td>2319.90</td>\n",
       "      <td>6037.0</td>\n",
       "      <td>Single Family Residential</td>\n",
       "      <td>2017-06-23</td>\n",
       "      <td>34686163.0</td>\n",
       "      <td>-118113100.0</td>\n",
       "      <td>8284.0</td>\n",
       "      <td>NaN</td>\n",
       "    </tr>\n",
       "    <tr>\n",
       "      <th>3</th>\n",
       "      <td>3.0</td>\n",
       "      <td>2.0</td>\n",
       "      <td>1766.0</td>\n",
       "      <td>810694.0</td>\n",
       "      <td>1980.0</td>\n",
       "      <td>9407.01</td>\n",
       "      <td>6037.0</td>\n",
       "      <td>Condominium</td>\n",
       "      <td>2017-07-28</td>\n",
       "      <td>34073222.0</td>\n",
       "      <td>-118390965.0</td>\n",
       "      <td>25082.0</td>\n",
       "      <td>NaN</td>\n",
       "    </tr>\n",
       "    <tr>\n",
       "      <th>4</th>\n",
       "      <td>2.0</td>\n",
       "      <td>1.0</td>\n",
       "      <td>1421.0</td>\n",
       "      <td>35606.0</td>\n",
       "      <td>1911.0</td>\n",
       "      <td>543.69</td>\n",
       "      <td>6037.0</td>\n",
       "      <td>Single Family Residential</td>\n",
       "      <td>2017-06-30</td>\n",
       "      <td>33999877.0</td>\n",
       "      <td>-118291863.0</td>\n",
       "      <td>6707.0</td>\n",
       "      <td>NaN</td>\n",
       "    </tr>\n",
       "  </tbody>\n",
       "</table>\n",
       "</div>"
      ],
      "text/plain": [
       "   bedrooms  bathrooms    area  tax_value  year_built  taxamount    fips  \\\n",
       "0       3.0        2.0  1125.0   289445.0      1974.0    3490.16  6059.0   \n",
       "1       3.0        2.0  1316.0   205123.0      1923.0    2627.48  6037.0   \n",
       "2       3.0        2.0  1458.0   136104.0      1970.0    2319.90  6037.0   \n",
       "3       3.0        2.0  1766.0   810694.0      1980.0    9407.01  6037.0   \n",
       "4       2.0        1.0  1421.0    35606.0      1911.0     543.69  6037.0   \n",
       "\n",
       "         propertylandusedesc transactiondate    latitude    longitude  \\\n",
       "0                Condominium      2017-08-04  33922098.0 -117954970.0   \n",
       "1  Single Family Residential      2017-07-21  34033180.0 -118355396.0   \n",
       "2  Single Family Residential      2017-06-23  34686163.0 -118113100.0   \n",
       "3                Condominium      2017-07-28  34073222.0 -118390965.0   \n",
       "4  Single Family Residential      2017-06-30  33999877.0 -118291863.0   \n",
       "\n",
       "   lotsizesquarefeet  garagecarcnt  \n",
       "0                NaN           1.0  \n",
       "1             5672.0           NaN  \n",
       "2             8284.0           NaN  \n",
       "3            25082.0           NaN  \n",
       "4             6707.0           NaN  "
      ]
     },
     "execution_count": 39,
     "metadata": {},
     "output_type": "execute_result"
    }
   ],
   "source": [
    "df.head()"
   ]
  },
  {
   "cell_type": "code",
   "execution_count": 40,
   "id": "99a37b14",
   "metadata": {},
   "outputs": [
    {
     "data": {
      "text/plain": [
       "Index(['bedrooms', 'bathrooms', 'area', 'tax_value', 'year_built', 'taxamount',\n",
       "       'fips', 'propertylandusedesc', 'transactiondate', 'latitude',\n",
       "       'longitude', 'lotsizesquarefeet', 'garagecarcnt'],\n",
       "      dtype='object')"
      ]
     },
     "execution_count": 40,
     "metadata": {},
     "output_type": "execute_result"
    }
   ],
   "source": [
    "df.columns"
   ]
  },
  {
   "cell_type": "code",
   "execution_count": 41,
   "id": "4288c06f",
   "metadata": {},
   "outputs": [
    {
     "data": {
      "text/plain": [
       "6037.0    24052\n",
       "6059.0    11141\n",
       "6111.0     3389\n",
       "Name: fips, dtype: int64"
      ]
     },
     "execution_count": 41,
     "metadata": {},
     "output_type": "execute_result"
    }
   ],
   "source": [
    "df.fips.value_counts()"
   ]
  },
  {
   "cell_type": "code",
   "execution_count": 42,
   "id": "f80e5b80",
   "metadata": {},
   "outputs": [],
   "source": [
    "# Converting fips to actual county name\n",
    "\n",
    "df['county'] = df['fips'].replace({6037:'Los Angeles',6059:'Orange',6111:'Ventura'})"
   ]
  },
  {
   "cell_type": "code",
   "execution_count": 43,
   "id": "5e583820",
   "metadata": {},
   "outputs": [
    {
     "data": {
      "text/html": [
       "<div>\n",
       "<style scoped>\n",
       "    .dataframe tbody tr th:only-of-type {\n",
       "        vertical-align: middle;\n",
       "    }\n",
       "\n",
       "    .dataframe tbody tr th {\n",
       "        vertical-align: top;\n",
       "    }\n",
       "\n",
       "    .dataframe thead th {\n",
       "        text-align: right;\n",
       "    }\n",
       "</style>\n",
       "<table border=\"1\" class=\"dataframe\">\n",
       "  <thead>\n",
       "    <tr style=\"text-align: right;\">\n",
       "      <th></th>\n",
       "      <th>bedrooms</th>\n",
       "      <th>bathrooms</th>\n",
       "      <th>area</th>\n",
       "      <th>tax_value</th>\n",
       "      <th>year_built</th>\n",
       "      <th>taxamount</th>\n",
       "      <th>fips</th>\n",
       "      <th>propertylandusedesc</th>\n",
       "      <th>transactiondate</th>\n",
       "      <th>latitude</th>\n",
       "      <th>longitude</th>\n",
       "      <th>lotsizesquarefeet</th>\n",
       "      <th>garagecarcnt</th>\n",
       "      <th>county</th>\n",
       "      <th>tax_rate</th>\n",
       "    </tr>\n",
       "  </thead>\n",
       "  <tbody>\n",
       "    <tr>\n",
       "      <th>0</th>\n",
       "      <td>3.0</td>\n",
       "      <td>2.0</td>\n",
       "      <td>1125.0</td>\n",
       "      <td>289445.0</td>\n",
       "      <td>1974.0</td>\n",
       "      <td>3490.16</td>\n",
       "      <td>6059.0</td>\n",
       "      <td>Condominium</td>\n",
       "      <td>2017-08-04</td>\n",
       "      <td>33922098.0</td>\n",
       "      <td>-117954970.0</td>\n",
       "      <td>NaN</td>\n",
       "      <td>1.0</td>\n",
       "      <td>Orange</td>\n",
       "      <td>1.21</td>\n",
       "    </tr>\n",
       "    <tr>\n",
       "      <th>1</th>\n",
       "      <td>3.0</td>\n",
       "      <td>2.0</td>\n",
       "      <td>1316.0</td>\n",
       "      <td>205123.0</td>\n",
       "      <td>1923.0</td>\n",
       "      <td>2627.48</td>\n",
       "      <td>6037.0</td>\n",
       "      <td>Single Family Residential</td>\n",
       "      <td>2017-07-21</td>\n",
       "      <td>34033180.0</td>\n",
       "      <td>-118355396.0</td>\n",
       "      <td>5672.0</td>\n",
       "      <td>NaN</td>\n",
       "      <td>Los Angeles</td>\n",
       "      <td>1.28</td>\n",
       "    </tr>\n",
       "    <tr>\n",
       "      <th>2</th>\n",
       "      <td>3.0</td>\n",
       "      <td>2.0</td>\n",
       "      <td>1458.0</td>\n",
       "      <td>136104.0</td>\n",
       "      <td>1970.0</td>\n",
       "      <td>2319.90</td>\n",
       "      <td>6037.0</td>\n",
       "      <td>Single Family Residential</td>\n",
       "      <td>2017-06-23</td>\n",
       "      <td>34686163.0</td>\n",
       "      <td>-118113100.0</td>\n",
       "      <td>8284.0</td>\n",
       "      <td>NaN</td>\n",
       "      <td>Los Angeles</td>\n",
       "      <td>1.70</td>\n",
       "    </tr>\n",
       "    <tr>\n",
       "      <th>3</th>\n",
       "      <td>3.0</td>\n",
       "      <td>2.0</td>\n",
       "      <td>1766.0</td>\n",
       "      <td>810694.0</td>\n",
       "      <td>1980.0</td>\n",
       "      <td>9407.01</td>\n",
       "      <td>6037.0</td>\n",
       "      <td>Condominium</td>\n",
       "      <td>2017-07-28</td>\n",
       "      <td>34073222.0</td>\n",
       "      <td>-118390965.0</td>\n",
       "      <td>25082.0</td>\n",
       "      <td>NaN</td>\n",
       "      <td>Los Angeles</td>\n",
       "      <td>1.16</td>\n",
       "    </tr>\n",
       "    <tr>\n",
       "      <th>4</th>\n",
       "      <td>2.0</td>\n",
       "      <td>1.0</td>\n",
       "      <td>1421.0</td>\n",
       "      <td>35606.0</td>\n",
       "      <td>1911.0</td>\n",
       "      <td>543.69</td>\n",
       "      <td>6037.0</td>\n",
       "      <td>Single Family Residential</td>\n",
       "      <td>2017-06-30</td>\n",
       "      <td>33999877.0</td>\n",
       "      <td>-118291863.0</td>\n",
       "      <td>6707.0</td>\n",
       "      <td>NaN</td>\n",
       "      <td>Los Angeles</td>\n",
       "      <td>1.53</td>\n",
       "    </tr>\n",
       "  </tbody>\n",
       "</table>\n",
       "</div>"
      ],
      "text/plain": [
       "   bedrooms  bathrooms    area  tax_value  year_built  taxamount    fips  \\\n",
       "0       3.0        2.0  1125.0   289445.0      1974.0    3490.16  6059.0   \n",
       "1       3.0        2.0  1316.0   205123.0      1923.0    2627.48  6037.0   \n",
       "2       3.0        2.0  1458.0   136104.0      1970.0    2319.90  6037.0   \n",
       "3       3.0        2.0  1766.0   810694.0      1980.0    9407.01  6037.0   \n",
       "4       2.0        1.0  1421.0    35606.0      1911.0     543.69  6037.0   \n",
       "\n",
       "         propertylandusedesc transactiondate    latitude    longitude  \\\n",
       "0                Condominium      2017-08-04  33922098.0 -117954970.0   \n",
       "1  Single Family Residential      2017-07-21  34033180.0 -118355396.0   \n",
       "2  Single Family Residential      2017-06-23  34686163.0 -118113100.0   \n",
       "3                Condominium      2017-07-28  34073222.0 -118390965.0   \n",
       "4  Single Family Residential      2017-06-30  33999877.0 -118291863.0   \n",
       "\n",
       "   lotsizesquarefeet  garagecarcnt       county  tax_rate  \n",
       "0                NaN           1.0       Orange      1.21  \n",
       "1             5672.0           NaN  Los Angeles      1.28  \n",
       "2             8284.0           NaN  Los Angeles      1.70  \n",
       "3            25082.0           NaN  Los Angeles      1.16  \n",
       "4             6707.0           NaN  Los Angeles      1.53  "
      ]
     },
     "execution_count": 43,
     "metadata": {},
     "output_type": "execute_result"
    }
   ],
   "source": [
    "# Creating tax_rate column\n",
    "\n",
    "df['tax_rate'] = round((df['taxamount']/df['tax_value'])*100,2)\n",
    "df.head()"
   ]
  },
  {
   "cell_type": "code",
   "execution_count": 44,
   "id": "a469588f",
   "metadata": {},
   "outputs": [],
   "source": [
    "# Remove Outliers\n",
    "\n",
    "col_list = ['bedrooms','bathrooms','area','tax_value','taxamount','tax_rate']\n",
    "df = remove_outliers(df,1.5,col_list)"
   ]
  },
  {
   "cell_type": "code",
   "execution_count": 45,
   "id": "3c927c16",
   "metadata": {},
   "outputs": [],
   "source": [
    "# Imputing year_built with most_frequent value\n",
    "\n",
    "imputer = SimpleImputer(strategy='most_frequent')\n",
    "imputer.fit(df[['year_built']])\n",
    "df[['year_built']] = imputer.transform(df[['year_built']])"
   ]
  },
  {
   "cell_type": "code",
   "execution_count": 46,
   "id": "38038969",
   "metadata": {},
   "outputs": [
    {
     "data": {
      "text/plain": [
       "bedrooms               False\n",
       "bathrooms              False\n",
       "area                   False\n",
       "tax_value              False\n",
       "year_built             False\n",
       "taxamount              False\n",
       "fips                   False\n",
       "propertylandusedesc    False\n",
       "transactiondate        False\n",
       "latitude               False\n",
       "longitude              False\n",
       "lotsizesquarefeet       True\n",
       "garagecarcnt            True\n",
       "county                 False\n",
       "tax_rate               False\n",
       "dtype: bool"
      ]
     },
     "execution_count": 46,
     "metadata": {},
     "output_type": "execute_result"
    }
   ],
   "source": [
    "df.isnull().any()"
   ]
  },
  {
   "cell_type": "code",
   "execution_count": 47,
   "id": "8f2f1f29",
   "metadata": {},
   "outputs": [
    {
     "data": {
      "text/plain": [
       "(30347, 15)"
      ]
     },
     "execution_count": 47,
     "metadata": {},
     "output_type": "execute_result"
    }
   ],
   "source": [
    "df.shape"
   ]
  },
  {
   "cell_type": "code",
   "execution_count": 48,
   "id": "5732cdde",
   "metadata": {},
   "outputs": [
    {
     "data": {
      "text/html": [
       "<div>\n",
       "<style scoped>\n",
       "    .dataframe tbody tr th:only-of-type {\n",
       "        vertical-align: middle;\n",
       "    }\n",
       "\n",
       "    .dataframe tbody tr th {\n",
       "        vertical-align: top;\n",
       "    }\n",
       "\n",
       "    .dataframe thead th {\n",
       "        text-align: right;\n",
       "    }\n",
       "</style>\n",
       "<table border=\"1\" class=\"dataframe\">\n",
       "  <thead>\n",
       "    <tr style=\"text-align: right;\">\n",
       "      <th></th>\n",
       "      <th>county</th>\n",
       "      <th>tax_rate</th>\n",
       "    </tr>\n",
       "  </thead>\n",
       "  <tbody>\n",
       "    <tr>\n",
       "      <th>0</th>\n",
       "      <td>Orange</td>\n",
       "      <td>1.21</td>\n",
       "    </tr>\n",
       "    <tr>\n",
       "      <th>1</th>\n",
       "      <td>Los Angeles</td>\n",
       "      <td>1.28</td>\n",
       "    </tr>\n",
       "    <tr>\n",
       "      <th>3</th>\n",
       "      <td>Los Angeles</td>\n",
       "      <td>1.16</td>\n",
       "    </tr>\n",
       "    <tr>\n",
       "      <th>4</th>\n",
       "      <td>Los Angeles</td>\n",
       "      <td>1.53</td>\n",
       "    </tr>\n",
       "    <tr>\n",
       "      <th>5</th>\n",
       "      <td>Orange</td>\n",
       "      <td>1.12</td>\n",
       "    </tr>\n",
       "    <tr>\n",
       "      <th>...</th>\n",
       "      <td>...</td>\n",
       "      <td>...</td>\n",
       "    </tr>\n",
       "    <tr>\n",
       "      <th>38575</th>\n",
       "      <td>Los Angeles</td>\n",
       "      <td>1.21</td>\n",
       "    </tr>\n",
       "    <tr>\n",
       "      <th>38576</th>\n",
       "      <td>Orange</td>\n",
       "      <td>1.19</td>\n",
       "    </tr>\n",
       "    <tr>\n",
       "      <th>38578</th>\n",
       "      <td>Los Angeles</td>\n",
       "      <td>1.22</td>\n",
       "    </tr>\n",
       "    <tr>\n",
       "      <th>38579</th>\n",
       "      <td>Los Angeles</td>\n",
       "      <td>1.21</td>\n",
       "    </tr>\n",
       "    <tr>\n",
       "      <th>38581</th>\n",
       "      <td>Los Angeles</td>\n",
       "      <td>1.23</td>\n",
       "    </tr>\n",
       "  </tbody>\n",
       "</table>\n",
       "<p>30347 rows × 2 columns</p>\n",
       "</div>"
      ],
      "text/plain": [
       "            county  tax_rate\n",
       "0           Orange      1.21\n",
       "1      Los Angeles      1.28\n",
       "3      Los Angeles      1.16\n",
       "4      Los Angeles      1.53\n",
       "5           Orange      1.12\n",
       "...            ...       ...\n",
       "38575  Los Angeles      1.21\n",
       "38576       Orange      1.19\n",
       "38578  Los Angeles      1.22\n",
       "38579  Los Angeles      1.21\n",
       "38581  Los Angeles      1.23\n",
       "\n",
       "[30347 rows x 2 columns]"
      ]
     },
     "execution_count": 48,
     "metadata": {},
     "output_type": "execute_result"
    }
   ],
   "source": [
    "# Creating a dataframe with county and tax_rate\n",
    "tax_data = pd.DataFrame({'county':df.county,'tax_rate':df.tax_rate})\n",
    "tax_data"
   ]
  },
  {
   "cell_type": "code",
   "execution_count": 49,
   "id": "323bab2d",
   "metadata": {},
   "outputs": [
    {
     "data": {
      "text/html": [
       "<div>\n",
       "<style scoped>\n",
       "    .dataframe tbody tr th:only-of-type {\n",
       "        vertical-align: middle;\n",
       "    }\n",
       "\n",
       "    .dataframe tbody tr th {\n",
       "        vertical-align: top;\n",
       "    }\n",
       "\n",
       "    .dataframe thead th {\n",
       "        text-align: right;\n",
       "    }\n",
       "</style>\n",
       "<table border=\"1\" class=\"dataframe\">\n",
       "  <thead>\n",
       "    <tr style=\"text-align: right;\">\n",
       "      <th></th>\n",
       "      <th>tax_rate</th>\n",
       "    </tr>\n",
       "  </thead>\n",
       "  <tbody>\n",
       "    <tr>\n",
       "      <th>count</th>\n",
       "      <td>30347.000000</td>\n",
       "    </tr>\n",
       "    <tr>\n",
       "      <th>mean</th>\n",
       "      <td>1.234090</td>\n",
       "    </tr>\n",
       "    <tr>\n",
       "      <th>std</th>\n",
       "      <td>0.132689</td>\n",
       "    </tr>\n",
       "    <tr>\n",
       "      <th>min</th>\n",
       "      <td>0.900000</td>\n",
       "    </tr>\n",
       "    <tr>\n",
       "      <th>25%</th>\n",
       "      <td>1.160000</td>\n",
       "    </tr>\n",
       "    <tr>\n",
       "      <th>50%</th>\n",
       "      <td>1.220000</td>\n",
       "    </tr>\n",
       "    <tr>\n",
       "      <th>75%</th>\n",
       "      <td>1.290000</td>\n",
       "    </tr>\n",
       "    <tr>\n",
       "      <th>max</th>\n",
       "      <td>1.620000</td>\n",
       "    </tr>\n",
       "  </tbody>\n",
       "</table>\n",
       "</div>"
      ],
      "text/plain": [
       "           tax_rate\n",
       "count  30347.000000\n",
       "mean       1.234090\n",
       "std        0.132689\n",
       "min        0.900000\n",
       "25%        1.160000\n",
       "50%        1.220000\n",
       "75%        1.290000\n",
       "max        1.620000"
      ]
     },
     "execution_count": 49,
     "metadata": {},
     "output_type": "execute_result"
    }
   ],
   "source": [
    "tax_data.describe()"
   ]
  },
  {
   "cell_type": "code",
   "execution_count": 91,
   "id": "cd29473d",
   "metadata": {},
   "outputs": [
    {
     "data": {
      "image/png": "[encoded data removed]",
      "text/plain": [
       "<Figure size 720x576 with 1 Axes>"
      ]
     },
     "metadata": {
      "needs_background": "light"
     },
     "output_type": "display_data"
    }
   ],
   "source": [
    "plt.figure(figsize=(10,8))\n",
    "sns.histplot(data=tax_data, x='tax_rate', kde=True, hue='county', bins=20)\n",
    "plt.xticks(fontsize = 10)\n",
    "plt.yticks(fontsize = 10)\n",
    "plt.xlabel('Tax Rate Percentage')\n",
    "plt.ylabel('Frequency')\n",
    "plt.title('Distributions of Tax Rates by County')\n",
    "plt.show()"
   ]
  },
  {
   "cell_type": "code",
   "execution_count": 52,
   "id": "b2207e56",
   "metadata": {},
   "outputs": [
    {
     "data": {
      "image/png": "[encoded data removed]",
      "text/plain": [
       "<Figure size 455.75x360 with 1 Axes>"
      ]
     },
     "metadata": {
      "needs_background": "light"
     },
     "output_type": "display_data"
    }
   ],
   "source": [
    "# Plotting distribution of tax_rate by county\n",
    "\n",
    "sns.displot(tax_data, x=\"tax_rate\", hue=\"county\", kind='kde',fill=True)\n",
    "plt.xlabel('Tax Rate %')\n",
    "plt.title('Distribution of tax rate by county')\n",
    "plt.show()"
   ]
  },
  {
   "cell_type": "code",
   "execution_count": 25,
   "id": "9ad710be",
   "metadata": {},
   "outputs": [
    {
     "data": {
      "text/plain": [
       "1.2778281726995002"
      ]
     },
     "execution_count": 25,
     "metadata": {},
     "output_type": "execute_result"
    }
   ],
   "source": [
    "df[df.county=='Los Angeles'].tax_rate.mean()"
   ]
  },
  {
   "cell_type": "code",
   "execution_count": 26,
   "id": "4464c386",
   "metadata": {},
   "outputs": [
    {
     "data": {
      "text/plain": [
       "1.1750417582417736"
      ]
     },
     "execution_count": 26,
     "metadata": {},
     "output_type": "execute_result"
    }
   ],
   "source": [
    "df[df.county=='Orange'].tax_rate.mean()"
   ]
  },
  {
   "cell_type": "code",
   "execution_count": 27,
   "id": "7482487d",
   "metadata": {},
   "outputs": [
    {
     "data": {
      "text/plain": [
       "1.142803995866346"
      ]
     },
     "execution_count": 27,
     "metadata": {},
     "output_type": "execute_result"
    }
   ],
   "source": [
    "df[df.county=='Ventura'].tax_rate.mean()"
   ]
  },
  {
   "cell_type": "code",
   "execution_count": 15,
   "id": "a45c177c",
   "metadata": {},
   "outputs": [
    {
     "data": {
      "text/html": [
       "<div>\n",
       "<style scoped>\n",
       "    .dataframe tbody tr th:only-of-type {\n",
       "        vertical-align: middle;\n",
       "    }\n",
       "\n",
       "    .dataframe tbody tr th {\n",
       "        vertical-align: top;\n",
       "    }\n",
       "\n",
       "    .dataframe thead th {\n",
       "        text-align: right;\n",
       "    }\n",
       "</style>\n",
       "<table border=\"1\" class=\"dataframe\">\n",
       "  <thead>\n",
       "    <tr style=\"text-align: right;\">\n",
       "      <th></th>\n",
       "      <th>bedrooms</th>\n",
       "      <th>bathrooms</th>\n",
       "      <th>area</th>\n",
       "      <th>tax_value</th>\n",
       "      <th>year_built</th>\n",
       "      <th>taxamount</th>\n",
       "      <th>fips</th>\n",
       "      <th>latitude</th>\n",
       "      <th>longitude</th>\n",
       "      <th>lotsizesquarefeet</th>\n",
       "      <th>garagecarcnt</th>\n",
       "      <th>tax_rate</th>\n",
       "    </tr>\n",
       "  </thead>\n",
       "  <tbody>\n",
       "    <tr>\n",
       "      <th>bedrooms</th>\n",
       "      <td>1.000000</td>\n",
       "      <td>0.511702</td>\n",
       "      <td>0.685406</td>\n",
       "      <td>0.216183</td>\n",
       "      <td>0.024449</td>\n",
       "      <td>0.220372</td>\n",
       "      <td>0.125623</td>\n",
       "      <td>0.069646</td>\n",
       "      <td>0.000997</td>\n",
       "      <td>-0.142895</td>\n",
       "      <td>0.385046</td>\n",
       "      <td>0.012255</td>\n",
       "    </tr>\n",
       "    <tr>\n",
       "      <th>bathrooms</th>\n",
       "      <td>0.511702</td>\n",
       "      <td>1.000000</td>\n",
       "      <td>0.693307</td>\n",
       "      <td>0.340512</td>\n",
       "      <td>0.450688</td>\n",
       "      <td>0.341423</td>\n",
       "      <td>0.074106</td>\n",
       "      <td>0.038511</td>\n",
       "      <td>0.007515</td>\n",
       "      <td>0.021913</td>\n",
       "      <td>0.391184</td>\n",
       "      <td>-0.097575</td>\n",
       "    </tr>\n",
       "    <tr>\n",
       "      <th>area</th>\n",
       "      <td>0.685406</td>\n",
       "      <td>0.693307</td>\n",
       "      <td>1.000000</td>\n",
       "      <td>0.417961</td>\n",
       "      <td>0.209260</td>\n",
       "      <td>0.414338</td>\n",
       "      <td>0.121745</td>\n",
       "      <td>0.043851</td>\n",
       "      <td>0.013392</td>\n",
       "      <td>-0.092155</td>\n",
       "      <td>0.457240</td>\n",
       "      <td>-0.087633</td>\n",
       "    </tr>\n",
       "    <tr>\n",
       "      <th>tax_value</th>\n",
       "      <td>0.216183</td>\n",
       "      <td>0.340512</td>\n",
       "      <td>0.417961</td>\n",
       "      <td>1.000000</td>\n",
       "      <td>0.206259</td>\n",
       "      <td>0.982303</td>\n",
       "      <td>0.070283</td>\n",
       "      <td>-0.131329</td>\n",
       "      <td>0.041118</td>\n",
       "      <td>-0.061356</td>\n",
       "      <td>0.243122</td>\n",
       "      <td>-0.418194</td>\n",
       "    </tr>\n",
       "    <tr>\n",
       "      <th>year_built</th>\n",
       "      <td>0.024449</td>\n",
       "      <td>0.450688</td>\n",
       "      <td>0.209260</td>\n",
       "      <td>0.206259</td>\n",
       "      <td>1.000000</td>\n",
       "      <td>0.202514</td>\n",
       "      <td>0.239073</td>\n",
       "      <td>-0.059568</td>\n",
       "      <td>0.072909</td>\n",
       "      <td>0.135585</td>\n",
       "      <td>0.109982</td>\n",
       "      <td>-0.140022</td>\n",
       "    </tr>\n",
       "    <tr>\n",
       "      <th>taxamount</th>\n",
       "      <td>0.220372</td>\n",
       "      <td>0.341423</td>\n",
       "      <td>0.414338</td>\n",
       "      <td>0.982303</td>\n",
       "      <td>0.202514</td>\n",
       "      <td>1.000000</td>\n",
       "      <td>0.007896</td>\n",
       "      <td>-0.072734</td>\n",
       "      <td>0.024145</td>\n",
       "      <td>-0.051609</td>\n",
       "      <td>0.239684</td>\n",
       "      <td>-0.272915</td>\n",
       "    </tr>\n",
       "    <tr>\n",
       "      <th>fips</th>\n",
       "      <td>0.125623</td>\n",
       "      <td>0.074106</td>\n",
       "      <td>0.121745</td>\n",
       "      <td>0.070283</td>\n",
       "      <td>0.239073</td>\n",
       "      <td>0.007896</td>\n",
       "      <td>1.000000</td>\n",
       "      <td>-0.009156</td>\n",
       "      <td>-0.368685</td>\n",
       "      <td>-0.109303</td>\n",
       "      <td>0.054908</td>\n",
       "      <td>-0.355572</td>\n",
       "    </tr>\n",
       "    <tr>\n",
       "      <th>latitude</th>\n",
       "      <td>0.069646</td>\n",
       "      <td>0.038511</td>\n",
       "      <td>0.043851</td>\n",
       "      <td>-0.131329</td>\n",
       "      <td>-0.059568</td>\n",
       "      <td>-0.072734</td>\n",
       "      <td>-0.009156</td>\n",
       "      <td>1.000000</td>\n",
       "      <td>-0.671030</td>\n",
       "      <td>0.096999</td>\n",
       "      <td>0.073033</td>\n",
       "      <td>0.309818</td>\n",
       "    </tr>\n",
       "    <tr>\n",
       "      <th>longitude</th>\n",
       "      <td>0.000997</td>\n",
       "      <td>0.007515</td>\n",
       "      <td>0.013392</td>\n",
       "      <td>0.041118</td>\n",
       "      <td>0.072909</td>\n",
       "      <td>0.024145</td>\n",
       "      <td>-0.368685</td>\n",
       "      <td>-0.671030</td>\n",
       "      <td>1.000000</td>\n",
       "      <td>-0.053717</td>\n",
       "      <td>-0.037938</td>\n",
       "      <td>-0.046155</td>\n",
       "    </tr>\n",
       "    <tr>\n",
       "      <th>lotsizesquarefeet</th>\n",
       "      <td>-0.142895</td>\n",
       "      <td>0.021913</td>\n",
       "      <td>-0.092155</td>\n",
       "      <td>-0.061356</td>\n",
       "      <td>0.135585</td>\n",
       "      <td>-0.051609</td>\n",
       "      <td>-0.109303</td>\n",
       "      <td>0.096999</td>\n",
       "      <td>-0.053717</td>\n",
       "      <td>1.000000</td>\n",
       "      <td>0.016979</td>\n",
       "      <td>0.059635</td>\n",
       "    </tr>\n",
       "    <tr>\n",
       "      <th>garagecarcnt</th>\n",
       "      <td>0.385046</td>\n",
       "      <td>0.391184</td>\n",
       "      <td>0.457240</td>\n",
       "      <td>0.243122</td>\n",
       "      <td>0.109982</td>\n",
       "      <td>0.239684</td>\n",
       "      <td>0.054908</td>\n",
       "      <td>0.073033</td>\n",
       "      <td>-0.037938</td>\n",
       "      <td>0.016979</td>\n",
       "      <td>1.000000</td>\n",
       "      <td>-0.033070</td>\n",
       "    </tr>\n",
       "    <tr>\n",
       "      <th>tax_rate</th>\n",
       "      <td>0.012255</td>\n",
       "      <td>-0.097575</td>\n",
       "      <td>-0.087633</td>\n",
       "      <td>-0.418194</td>\n",
       "      <td>-0.140022</td>\n",
       "      <td>-0.272915</td>\n",
       "      <td>-0.355572</td>\n",
       "      <td>0.309818</td>\n",
       "      <td>-0.046155</td>\n",
       "      <td>0.059635</td>\n",
       "      <td>-0.033070</td>\n",
       "      <td>1.000000</td>\n",
       "    </tr>\n",
       "  </tbody>\n",
       "</table>\n",
       "</div>"
      ],
      "text/plain": [
       "                   bedrooms  bathrooms      area  tax_value  year_built  \\\n",
       "bedrooms           1.000000   0.511702  0.685406   0.216183    0.024449   \n",
       "bathrooms          0.511702   1.000000  0.693307   0.340512    0.450688   \n",
       "area               0.685406   0.693307  1.000000   0.417961    0.209260   \n",
       "tax_value          0.216183   0.340512  0.417961   1.000000    0.206259   \n",
       "year_built         0.024449   0.450688  0.209260   0.206259    1.000000   \n",
       "taxamount          0.220372   0.341423  0.414338   0.982303    0.202514   \n",
       "fips               0.125623   0.074106  0.121745   0.070283    0.239073   \n",
       "latitude           0.069646   0.038511  0.043851  -0.131329   -0.059568   \n",
       "longitude          0.000997   0.007515  0.013392   0.041118    0.072909   \n",
       "lotsizesquarefeet -0.142895   0.021913 -0.092155  -0.061356    0.135585   \n",
       "garagecarcnt       0.385046   0.391184  0.457240   0.243122    0.109982   \n",
       "tax_rate           0.012255  -0.097575 -0.087633  -0.418194   -0.140022   \n",
       "\n",
       "                   taxamount      fips  latitude  longitude  \\\n",
       "bedrooms            0.220372  0.125623  0.069646   0.000997   \n",
       "bathrooms           0.341423  0.074106  0.038511   0.007515   \n",
       "area                0.414338  0.121745  0.043851   0.013392   \n",
       "tax_value           0.982303  0.070283 -0.131329   0.041118   \n",
       "year_built          0.202514  0.239073 -0.059568   0.072909   \n",
       "taxamount           1.000000  0.007896 -0.072734   0.024145   \n",
       "fips                0.007896  1.000000 -0.009156  -0.368685   \n",
       "latitude           -0.072734 -0.009156  1.000000  -0.671030   \n",
       "longitude           0.024145 -0.368685 -0.671030   1.000000   \n",
       "lotsizesquarefeet  -0.051609 -0.109303  0.096999  -0.053717   \n",
       "garagecarcnt        0.239684  0.054908  0.073033  -0.037938   \n",
       "tax_rate           -0.272915 -0.355572  0.309818  -0.046155   \n",
       "\n",
       "                   lotsizesquarefeet  garagecarcnt  tax_rate  \n",
       "bedrooms                   -0.142895      0.385046  0.012255  \n",
       "bathrooms                   0.021913      0.391184 -0.097575  \n",
       "area                       -0.092155      0.457240 -0.087633  \n",
       "tax_value                  -0.061356      0.243122 -0.418194  \n",
       "year_built                  0.135585      0.109982 -0.140022  \n",
       "taxamount                  -0.051609      0.239684 -0.272915  \n",
       "fips                       -0.109303      0.054908 -0.355572  \n",
       "latitude                    0.096999      0.073033  0.309818  \n",
       "longitude                  -0.053717     -0.037938 -0.046155  \n",
       "lotsizesquarefeet           1.000000      0.016979  0.059635  \n",
       "garagecarcnt                0.016979      1.000000 -0.033070  \n",
       "tax_rate                    0.059635     -0.033070  1.000000  "
      ]
     },
     "execution_count": 15,
     "metadata": {},
     "output_type": "execute_result"
    }
   ],
   "source": [
    "df.corr()"
   ]
  },
  {
   "cell_type": "code",
   "execution_count": 16,
   "id": "5c044599",
   "metadata": {},
   "outputs": [
    {
     "data": {
      "text/html": [
       "<div>\n",
       "<style scoped>\n",
       "    .dataframe tbody tr th:only-of-type {\n",
       "        vertical-align: middle;\n",
       "    }\n",
       "\n",
       "    .dataframe tbody tr th {\n",
       "        vertical-align: top;\n",
       "    }\n",
       "\n",
       "    .dataframe thead th {\n",
       "        text-align: right;\n",
       "    }\n",
       "</style>\n",
       "<table border=\"1\" class=\"dataframe\">\n",
       "  <thead>\n",
       "    <tr style=\"text-align: right;\">\n",
       "      <th></th>\n",
       "      <th>bedrooms</th>\n",
       "      <th>bathrooms</th>\n",
       "      <th>area</th>\n",
       "      <th>tax_value</th>\n",
       "      <th>year_built</th>\n",
       "      <th>taxamount</th>\n",
       "      <th>fips</th>\n",
       "      <th>propertylandusedesc</th>\n",
       "      <th>transactiondate</th>\n",
       "      <th>latitude</th>\n",
       "      <th>longitude</th>\n",
       "      <th>lotsizesquarefeet</th>\n",
       "      <th>garagecarcnt</th>\n",
       "      <th>county</th>\n",
       "      <th>tax_rate</th>\n",
       "    </tr>\n",
       "  </thead>\n",
       "  <tbody>\n",
       "    <tr>\n",
       "      <th>0</th>\n",
       "      <td>3.0</td>\n",
       "      <td>2.0</td>\n",
       "      <td>1125.0</td>\n",
       "      <td>289445.0</td>\n",
       "      <td>1974.0</td>\n",
       "      <td>3490.16</td>\n",
       "      <td>6059.0</td>\n",
       "      <td>Condominium</td>\n",
       "      <td>2017-08-04</td>\n",
       "      <td>33922098.0</td>\n",
       "      <td>-117954970.0</td>\n",
       "      <td>NaN</td>\n",
       "      <td>1.0</td>\n",
       "      <td>Orange</td>\n",
       "      <td>1.21</td>\n",
       "    </tr>\n",
       "    <tr>\n",
       "      <th>1</th>\n",
       "      <td>3.0</td>\n",
       "      <td>2.0</td>\n",
       "      <td>1316.0</td>\n",
       "      <td>205123.0</td>\n",
       "      <td>1923.0</td>\n",
       "      <td>2627.48</td>\n",
       "      <td>6037.0</td>\n",
       "      <td>Single Family Residential</td>\n",
       "      <td>2017-07-21</td>\n",
       "      <td>34033180.0</td>\n",
       "      <td>-118355396.0</td>\n",
       "      <td>5672.0</td>\n",
       "      <td>NaN</td>\n",
       "      <td>Los Angeles</td>\n",
       "      <td>1.28</td>\n",
       "    </tr>\n",
       "    <tr>\n",
       "      <th>3</th>\n",
       "      <td>3.0</td>\n",
       "      <td>2.0</td>\n",
       "      <td>1766.0</td>\n",
       "      <td>810694.0</td>\n",
       "      <td>1980.0</td>\n",
       "      <td>9407.01</td>\n",
       "      <td>6037.0</td>\n",
       "      <td>Condominium</td>\n",
       "      <td>2017-07-28</td>\n",
       "      <td>34073222.0</td>\n",
       "      <td>-118390965.0</td>\n",
       "      <td>25082.0</td>\n",
       "      <td>NaN</td>\n",
       "      <td>Los Angeles</td>\n",
       "      <td>1.16</td>\n",
       "    </tr>\n",
       "    <tr>\n",
       "      <th>4</th>\n",
       "      <td>2.0</td>\n",
       "      <td>1.0</td>\n",
       "      <td>1421.0</td>\n",
       "      <td>35606.0</td>\n",
       "      <td>1911.0</td>\n",
       "      <td>543.69</td>\n",
       "      <td>6037.0</td>\n",
       "      <td>Single Family Residential</td>\n",
       "      <td>2017-06-30</td>\n",
       "      <td>33999877.0</td>\n",
       "      <td>-118291863.0</td>\n",
       "      <td>6707.0</td>\n",
       "      <td>NaN</td>\n",
       "      <td>Los Angeles</td>\n",
       "      <td>1.53</td>\n",
       "    </tr>\n",
       "    <tr>\n",
       "      <th>5</th>\n",
       "      <td>4.0</td>\n",
       "      <td>3.0</td>\n",
       "      <td>2541.0</td>\n",
       "      <td>880456.0</td>\n",
       "      <td>2003.0</td>\n",
       "      <td>9819.72</td>\n",
       "      <td>6059.0</td>\n",
       "      <td>Single Family Residential</td>\n",
       "      <td>2017-06-01</td>\n",
       "      <td>33694636.0</td>\n",
       "      <td>-117912245.0</td>\n",
       "      <td>4975.0</td>\n",
       "      <td>2.0</td>\n",
       "      <td>Orange</td>\n",
       "      <td>1.12</td>\n",
       "    </tr>\n",
       "  </tbody>\n",
       "</table>\n",
       "</div>"
      ],
      "text/plain": [
       "   bedrooms  bathrooms    area  tax_value  year_built  taxamount    fips  \\\n",
       "0       3.0        2.0  1125.0   289445.0      1974.0    3490.16  6059.0   \n",
       "1       3.0        2.0  1316.0   205123.0      1923.0    2627.48  6037.0   \n",
       "3       3.0        2.0  1766.0   810694.0      1980.0    9407.01  6037.0   \n",
       "4       2.0        1.0  1421.0    35606.0      1911.0     543.69  6037.0   \n",
       "5       4.0        3.0  2541.0   880456.0      2003.0    9819.72  6059.0   \n",
       "\n",
       "         propertylandusedesc transactiondate    latitude    longitude  \\\n",
       "0                Condominium      2017-08-04  33922098.0 -117954970.0   \n",
       "1  Single Family Residential      2017-07-21  34033180.0 -118355396.0   \n",
       "3                Condominium      2017-07-28  34073222.0 -118390965.0   \n",
       "4  Single Family Residential      2017-06-30  33999877.0 -118291863.0   \n",
       "5  Single Family Residential      2017-06-01  33694636.0 -117912245.0   \n",
       "\n",
       "   lotsizesquarefeet  garagecarcnt       county  tax_rate  \n",
       "0                NaN           1.0       Orange      1.21  \n",
       "1             5672.0           NaN  Los Angeles      1.28  \n",
       "3            25082.0           NaN  Los Angeles      1.16  \n",
       "4             6707.0           NaN  Los Angeles      1.53  \n",
       "5             4975.0           2.0       Orange      1.12  "
      ]
     },
     "execution_count": 16,
     "metadata": {},
     "output_type": "execute_result"
    }
   ],
   "source": [
    "df.head()"
   ]
  },
  {
   "cell_type": "code",
   "execution_count": 99,
   "id": "17358417",
   "metadata": {},
   "outputs": [],
   "source": [
    "# Splitting Data for Exploration\n",
    "train_validate, test = train_test_split(df, test_size=.2, random_state=123)\n",
    "train, validate = train_test_split(train_validate, test_size=.3, random_state=123)"
   ]
  },
  {
   "cell_type": "code",
   "execution_count": 96,
   "id": "9983eb58",
   "metadata": {},
   "outputs": [
    {
     "data": {
      "text/plain": [
       "Index(['bedrooms', 'bathrooms', 'area', 'tax_value', 'year_built', 'taxamount',\n",
       "       'fips', 'propertylandusedesc', 'transactiondate', 'latitude',\n",
       "       'longitude', 'lotsizesquarefeet', 'garagecarcnt', 'county', 'tax_rate'],\n",
       "      dtype='object')"
      ]
     },
     "execution_count": 96,
     "metadata": {},
     "output_type": "execute_result"
    }
   ],
   "source": [
    "train.columns"
   ]
  },
  {
   "cell_type": "code",
   "execution_count": null,
   "id": "bcdd3f1c",
   "metadata": {},
   "outputs": [],
   "source": [
    "cat_vars = ['bedrooms','bathrooms','county']\n",
    "quant_vars = ['area','transactiondate','latitude','longitude','tax_rate']\n",
    "\n",
    "explore_univariate(train, cat_vars, quant_vars)"
   ]
  },
  {
   "cell_type": "markdown",
   "id": "33107f24",
   "metadata": {},
   "source": [
    "#### Hypothesis 1\n",
    "#### Is there a correlation between area and tax_value?\n",
    "\"$H_0$ = Tax_value is independent of area\"\n",
    "\n",
    "\"$H_a$ = Tax_value and area are dependent on each other.\""
   ]
  },
  {
   "cell_type": "code",
   "execution_count": 101,
   "id": "82698a79",
   "metadata": {},
   "outputs": [],
   "source": [
    "alpha = .05"
   ]
  },
  {
   "cell_type": "code",
   "execution_count": 102,
   "id": "2cd94668",
   "metadata": {},
   "outputs": [
    {
     "name": "stdout",
     "output_type": "stream",
     "text": [
      "The p-value is: 0.0. There is 0.0% chance that we see these results by chance.\n",
      "r = 0.41\n"
     ]
    }
   ],
   "source": [
    "r, p = stats.pearsonr(train.area, train.tax_value)\n",
    "print(f'The p-value is: {p}. There is {round(p,3)}% chance that we see these results by chance.')\n",
    "print(f'r = {round(r, 2)}')"
   ]
  },
  {
   "cell_type": "markdown",
   "id": "dd4d28f0",
   "metadata": {},
   "source": [
    "#### Hypothesis 2\n",
    "#### Is the tax_rate mean different between LA county vs Ventury and Orange counties?\n",
    "\"$H_0$ = Tax_rate in LA county is not different than the mean rates in Ventura and Orange counties.\"\n",
    "\n",
    "\"$H_a$ = Tax_rate in LA county is different than the mean rates in Ventura and Orange counties.\""
   ]
  },
  {
   "cell_type": "code",
   "execution_count": 104,
   "id": "a7fbf2fe",
   "metadata": {},
   "outputs": [
    {
     "data": {
      "text/plain": [
       "MannwhitneyuResult(statistic=82237545.0, pvalue=3.6532134728898364e-16)"
      ]
     },
     "execution_count": 104,
     "metadata": {},
     "output_type": "execute_result"
    }
   ],
   "source": [
    "stats.mannwhitneyu(train[train['county']== 'Los Angeles']['tax_value'], train[train['county'] != 'LA']['tax_value'])"
   ]
  },
  {
   "cell_type": "markdown",
   "id": "ee80d13c",
   "metadata": {},
   "source": [
    "We reject the null hypothesis"
   ]
  },
  {
   "cell_type": "code",
   "execution_count": 17,
   "id": "9adb69ce",
   "metadata": {},
   "outputs": [
    {
     "data": {
      "text/html": [
       "<div>\n",
       "<style scoped>\n",
       "    .dataframe tbody tr th:only-of-type {\n",
       "        vertical-align: middle;\n",
       "    }\n",
       "\n",
       "    .dataframe tbody tr th {\n",
       "        vertical-align: top;\n",
       "    }\n",
       "\n",
       "    .dataframe thead th {\n",
       "        text-align: right;\n",
       "    }\n",
       "</style>\n",
       "<table border=\"1\" class=\"dataframe\">\n",
       "  <thead>\n",
       "    <tr style=\"text-align: right;\">\n",
       "      <th></th>\n",
       "      <th>tax_value</th>\n",
       "      <th>transactiondate</th>\n",
       "    </tr>\n",
       "  </thead>\n",
       "  <tbody>\n",
       "    <tr>\n",
       "      <th>0</th>\n",
       "      <td>289445.0</td>\n",
       "      <td>2017-08-04</td>\n",
       "    </tr>\n",
       "    <tr>\n",
       "      <th>1</th>\n",
       "      <td>205123.0</td>\n",
       "      <td>2017-07-21</td>\n",
       "    </tr>\n",
       "    <tr>\n",
       "      <th>3</th>\n",
       "      <td>810694.0</td>\n",
       "      <td>2017-07-28</td>\n",
       "    </tr>\n",
       "    <tr>\n",
       "      <th>4</th>\n",
       "      <td>35606.0</td>\n",
       "      <td>2017-06-30</td>\n",
       "    </tr>\n",
       "    <tr>\n",
       "      <th>5</th>\n",
       "      <td>880456.0</td>\n",
       "      <td>2017-06-01</td>\n",
       "    </tr>\n",
       "    <tr>\n",
       "      <th>...</th>\n",
       "      <td>...</td>\n",
       "      <td>...</td>\n",
       "    </tr>\n",
       "    <tr>\n",
       "      <th>38575</th>\n",
       "      <td>119659.0</td>\n",
       "      <td>2017-08-31</td>\n",
       "    </tr>\n",
       "    <tr>\n",
       "      <th>38576</th>\n",
       "      <td>465999.0</td>\n",
       "      <td>2017-08-31</td>\n",
       "    </tr>\n",
       "    <tr>\n",
       "      <th>38578</th>\n",
       "      <td>492395.0</td>\n",
       "      <td>2017-08-31</td>\n",
       "    </tr>\n",
       "    <tr>\n",
       "      <th>38579</th>\n",
       "      <td>600608.0</td>\n",
       "      <td>2017-08-31</td>\n",
       "    </tr>\n",
       "    <tr>\n",
       "      <th>38581</th>\n",
       "      <td>563463.0</td>\n",
       "      <td>2017-08-31</td>\n",
       "    </tr>\n",
       "  </tbody>\n",
       "</table>\n",
       "<p>30347 rows × 2 columns</p>\n",
       "</div>"
      ],
      "text/plain": [
       "       tax_value transactiondate\n",
       "0       289445.0      2017-08-04\n",
       "1       205123.0      2017-07-21\n",
       "3       810694.0      2017-07-28\n",
       "4        35606.0      2017-06-30\n",
       "5       880456.0      2017-06-01\n",
       "...          ...             ...\n",
       "38575   119659.0      2017-08-31\n",
       "38576   465999.0      2017-08-31\n",
       "38578   492395.0      2017-08-31\n",
       "38579   600608.0      2017-08-31\n",
       "38581   563463.0      2017-08-31\n",
       "\n",
       "[30347 rows x 2 columns]"
      ]
     },
     "execution_count": 17,
     "metadata": {},
     "output_type": "execute_result"
    }
   ],
   "source": [
    "tax_and_date = pd.DataFrame({'tax_value':df.tax_value,'transactiondate':df.transactiondate})\n",
    "tax_and_date"
   ]
  },
  {
   "cell_type": "code",
   "execution_count": 18,
   "id": "a3c799c0",
   "metadata": {},
   "outputs": [
    {
     "name": "stdout",
     "output_type": "stream",
     "text": [
      "<class 'pandas.core.frame.DataFrame'>\n",
      "Int64Index: 30347 entries, 0 to 38581\n",
      "Data columns (total 2 columns):\n",
      " #   Column           Non-Null Count  Dtype  \n",
      "---  ------           --------------  -----  \n",
      " 0   tax_value        30347 non-null  float64\n",
      " 1   transactiondate  30347 non-null  object \n",
      "dtypes: float64(1), object(1)\n",
      "memory usage: 711.3+ KB\n"
     ]
    }
   ],
   "source": [
    "tax_and_date.info()"
   ]
  },
  {
   "cell_type": "code",
   "execution_count": 19,
   "id": "84890d13",
   "metadata": {},
   "outputs": [
    {
     "data": {
      "text/html": [
       "<div>\n",
       "<style scoped>\n",
       "    .dataframe tbody tr th:only-of-type {\n",
       "        vertical-align: middle;\n",
       "    }\n",
       "\n",
       "    .dataframe tbody tr th {\n",
       "        vertical-align: top;\n",
       "    }\n",
       "\n",
       "    .dataframe thead th {\n",
       "        text-align: right;\n",
       "    }\n",
       "</style>\n",
       "<table border=\"1\" class=\"dataframe\">\n",
       "  <thead>\n",
       "    <tr style=\"text-align: right;\">\n",
       "      <th></th>\n",
       "      <th>bedrooms</th>\n",
       "      <th>bathrooms</th>\n",
       "      <th>area</th>\n",
       "      <th>tax_value</th>\n",
       "      <th>year_built</th>\n",
       "      <th>taxamount</th>\n",
       "      <th>fips</th>\n",
       "      <th>propertylandusedesc</th>\n",
       "      <th>transactiondate</th>\n",
       "      <th>latitude</th>\n",
       "      <th>longitude</th>\n",
       "      <th>lotsizesquarefeet</th>\n",
       "      <th>garagecarcnt</th>\n",
       "      <th>county</th>\n",
       "      <th>tax_rate</th>\n",
       "      <th>month</th>\n",
       "      <th>month_encoded</th>\n",
       "    </tr>\n",
       "  </thead>\n",
       "  <tbody>\n",
       "    <tr>\n",
       "      <th>0</th>\n",
       "      <td>3.0</td>\n",
       "      <td>2.0</td>\n",
       "      <td>1125.0</td>\n",
       "      <td>289445.0</td>\n",
       "      <td>1974.0</td>\n",
       "      <td>3490.16</td>\n",
       "      <td>6059.0</td>\n",
       "      <td>Condominium</td>\n",
       "      <td>2017-08-04</td>\n",
       "      <td>33922098.0</td>\n",
       "      <td>-117954970.0</td>\n",
       "      <td>NaN</td>\n",
       "      <td>1.0</td>\n",
       "      <td>Orange</td>\n",
       "      <td>1.21</td>\n",
       "      <td>August</td>\n",
       "      <td>4</td>\n",
       "    </tr>\n",
       "    <tr>\n",
       "      <th>1</th>\n",
       "      <td>3.0</td>\n",
       "      <td>2.0</td>\n",
       "      <td>1316.0</td>\n",
       "      <td>205123.0</td>\n",
       "      <td>1923.0</td>\n",
       "      <td>2627.48</td>\n",
       "      <td>6037.0</td>\n",
       "      <td>Single Family Residential</td>\n",
       "      <td>2017-07-21</td>\n",
       "      <td>34033180.0</td>\n",
       "      <td>-118355396.0</td>\n",
       "      <td>5672.0</td>\n",
       "      <td>NaN</td>\n",
       "      <td>Los Angeles</td>\n",
       "      <td>1.28</td>\n",
       "      <td>July</td>\n",
       "      <td>3</td>\n",
       "    </tr>\n",
       "    <tr>\n",
       "      <th>3</th>\n",
       "      <td>3.0</td>\n",
       "      <td>2.0</td>\n",
       "      <td>1766.0</td>\n",
       "      <td>810694.0</td>\n",
       "      <td>1980.0</td>\n",
       "      <td>9407.01</td>\n",
       "      <td>6037.0</td>\n",
       "      <td>Condominium</td>\n",
       "      <td>2017-07-28</td>\n",
       "      <td>34073222.0</td>\n",
       "      <td>-118390965.0</td>\n",
       "      <td>25082.0</td>\n",
       "      <td>NaN</td>\n",
       "      <td>Los Angeles</td>\n",
       "      <td>1.16</td>\n",
       "      <td>July</td>\n",
       "      <td>3</td>\n",
       "    </tr>\n",
       "    <tr>\n",
       "      <th>4</th>\n",
       "      <td>2.0</td>\n",
       "      <td>1.0</td>\n",
       "      <td>1421.0</td>\n",
       "      <td>35606.0</td>\n",
       "      <td>1911.0</td>\n",
       "      <td>543.69</td>\n",
       "      <td>6037.0</td>\n",
       "      <td>Single Family Residential</td>\n",
       "      <td>2017-06-30</td>\n",
       "      <td>33999877.0</td>\n",
       "      <td>-118291863.0</td>\n",
       "      <td>6707.0</td>\n",
       "      <td>NaN</td>\n",
       "      <td>Los Angeles</td>\n",
       "      <td>1.53</td>\n",
       "      <td>June</td>\n",
       "      <td>2</td>\n",
       "    </tr>\n",
       "    <tr>\n",
       "      <th>5</th>\n",
       "      <td>4.0</td>\n",
       "      <td>3.0</td>\n",
       "      <td>2541.0</td>\n",
       "      <td>880456.0</td>\n",
       "      <td>2003.0</td>\n",
       "      <td>9819.72</td>\n",
       "      <td>6059.0</td>\n",
       "      <td>Single Family Residential</td>\n",
       "      <td>2017-06-01</td>\n",
       "      <td>33694636.0</td>\n",
       "      <td>-117912245.0</td>\n",
       "      <td>4975.0</td>\n",
       "      <td>2.0</td>\n",
       "      <td>Orange</td>\n",
       "      <td>1.12</td>\n",
       "      <td>June</td>\n",
       "      <td>2</td>\n",
       "    </tr>\n",
       "  </tbody>\n",
       "</table>\n",
       "</div>"
      ],
      "text/plain": [
       "   bedrooms  bathrooms    area  tax_value  year_built  taxamount    fips  \\\n",
       "0       3.0        2.0  1125.0   289445.0      1974.0    3490.16  6059.0   \n",
       "1       3.0        2.0  1316.0   205123.0      1923.0    2627.48  6037.0   \n",
       "3       3.0        2.0  1766.0   810694.0      1980.0    9407.01  6037.0   \n",
       "4       2.0        1.0  1421.0    35606.0      1911.0     543.69  6037.0   \n",
       "5       4.0        3.0  2541.0   880456.0      2003.0    9819.72  6059.0   \n",
       "\n",
       "         propertylandusedesc transactiondate    latitude    longitude  \\\n",
       "0                Condominium      2017-08-04  33922098.0 -117954970.0   \n",
       "1  Single Family Residential      2017-07-21  34033180.0 -118355396.0   \n",
       "3                Condominium      2017-07-28  34073222.0 -118390965.0   \n",
       "4  Single Family Residential      2017-06-30  33999877.0 -118291863.0   \n",
       "5  Single Family Residential      2017-06-01  33694636.0 -117912245.0   \n",
       "\n",
       "   lotsizesquarefeet  garagecarcnt       county  tax_rate   month  \\\n",
       "0                NaN           1.0       Orange      1.21  August   \n",
       "1             5672.0           NaN  Los Angeles      1.28    July   \n",
       "3            25082.0           NaN  Los Angeles      1.16    July   \n",
       "4             6707.0           NaN  Los Angeles      1.53    June   \n",
       "5             4975.0           2.0       Orange      1.12    June   \n",
       "\n",
       "   month_encoded  \n",
       "0              4  \n",
       "1              3  \n",
       "3              3  \n",
       "4              2  \n",
       "5              2  "
      ]
     },
     "execution_count": 19,
     "metadata": {},
     "output_type": "execute_result"
    }
   ],
   "source": [
    "# Create a month column:\n",
    "conditions =[\n",
    "    (df.transactiondate.str.match('2017-05')),\n",
    "    (df.transactiondate.str.match('2017-06')),\n",
    "    (df.transactiondate.str.match('2017-07')),\n",
    "    (df.transactiondate.str.match('2017-08'))]\n",
    "\n",
    "values = ['May','June','July','August']\n",
    "\n",
    "df['month'] = np.select(conditions, values)\n",
    "\n",
    "conditions2 = [\n",
    "    (df.month.str.match('May')),\n",
    "    (df.month.str.match('June')),\n",
    "    (df.month.str.match('July')),\n",
    "    (df.month.str.match('August'))]\n",
    "\n",
    "values2 = [1,2,3,4]\n",
    "\n",
    "df['month_encoded'] = np.select(conditions2,values2)\n",
    "\n",
    "df.head()"
   ]
  },
  {
   "cell_type": "code",
   "execution_count": 21,
   "id": "2929f238",
   "metadata": {},
   "outputs": [
    {
     "data": {
      "image/png": "[encoded data removed]",
      "text/plain": [
       "<Figure size 432x288 with 1 Axes>"
      ]
     },
     "metadata": {
      "needs_background": "light"
     },
     "output_type": "display_data"
    }
   ],
   "source": [
    "sns.countplot(x=df['month'])\n",
    "plt.show()"
   ]
  },
  {
   "cell_type": "code",
   "execution_count": 22,
   "id": "865c0dc6",
   "metadata": {},
   "outputs": [
    {
     "data": {
      "text/html": [
       "<div>\n",
       "<style scoped>\n",
       "    .dataframe tbody tr th:only-of-type {\n",
       "        vertical-align: middle;\n",
       "    }\n",
       "\n",
       "    .dataframe tbody tr th {\n",
       "        vertical-align: top;\n",
       "    }\n",
       "\n",
       "    .dataframe thead th {\n",
       "        text-align: right;\n",
       "    }\n",
       "</style>\n",
       "<table border=\"1\" class=\"dataframe\">\n",
       "  <thead>\n",
       "    <tr style=\"text-align: right;\">\n",
       "      <th></th>\n",
       "      <th>Months</th>\n",
       "      <th>tax_value_mean</th>\n",
       "      <th>tax_amount_mean</th>\n",
       "      <th>tax_rate_mean</th>\n",
       "    </tr>\n",
       "  </thead>\n",
       "  <tbody>\n",
       "    <tr>\n",
       "      <th>0</th>\n",
       "      <td>May</td>\n",
       "      <td>378754.909151</td>\n",
       "      <td>4555.928423</td>\n",
       "      <td>1.234188</td>\n",
       "    </tr>\n",
       "    <tr>\n",
       "      <th>1</th>\n",
       "      <td>June</td>\n",
       "      <td>383206.199905</td>\n",
       "      <td>4619.350295</td>\n",
       "      <td>1.235834</td>\n",
       "    </tr>\n",
       "    <tr>\n",
       "      <th>2</th>\n",
       "      <td>July</td>\n",
       "      <td>378006.875606</td>\n",
       "      <td>4551.014098</td>\n",
       "      <td>1.233080</td>\n",
       "    </tr>\n",
       "    <tr>\n",
       "      <th>3</th>\n",
       "      <td>August</td>\n",
       "      <td>373581.788584</td>\n",
       "      <td>4493.087396</td>\n",
       "      <td>1.232964</td>\n",
       "    </tr>\n",
       "  </tbody>\n",
       "</table>\n",
       "</div>"
      ],
      "text/plain": [
       "   Months  tax_value_mean  tax_amount_mean  tax_rate_mean\n",
       "0     May   378754.909151      4555.928423       1.234188\n",
       "1    June   383206.199905      4619.350295       1.235834\n",
       "2    July   378006.875606      4551.014098       1.233080\n",
       "3  August   373581.788584      4493.087396       1.232964"
      ]
     },
     "execution_count": 22,
     "metadata": {},
     "output_type": "execute_result"
    }
   ],
   "source": [
    "month_value = {'Months':['May','June','July','August'],\\\n",
    "                'tax_value_mean':[(df[df.month=='May'].tax_value.mean()),\\\n",
    "                                  (df[df.month=='June'].tax_value.mean()),\\\n",
    "                                    (df[df.month=='July'].tax_value.mean()),\\\n",
    "                                    (df[df.month=='August'].tax_value.mean())],\n",
    "              'tax_amount_mean':[(df[df.month=='May'].taxamount.mean()),\\\n",
    "                                  (df[df.month=='June'].taxamount.mean()),\\\n",
    "                                    (df[df.month=='July'].taxamount.mean()),\\\n",
    "                                    (df[df.month=='August'].taxamount.mean())],\n",
    "              'tax_rate_mean': [(df[df.month=='May'].tax_rate.mean()),\\\n",
    "                                  (df[df.month=='June'].tax_rate.mean()),\\\n",
    "                                    (df[df.month=='July'].tax_rate.mean()),\\\n",
    "                                    (df[df.month=='August'].tax_rate.mean())]}\n",
    "               \n",
    "               \n",
    "month_value_df = pd.DataFrame(data=month_value)\n",
    "\n",
    "month_value_df"
   ]
  },
  {
   "cell_type": "code",
   "execution_count": 23,
   "id": "3e2dd5e9",
   "metadata": {},
   "outputs": [
    {
     "data": {
      "text/plain": [
       "<AxesSubplot:xlabel='Months', ylabel='tax_amount_mean'>"
      ]
     },
     "execution_count": 23,
     "metadata": {},
     "output_type": "execute_result"
    },
    {
     "data": {
      "image/png": "[encoded data removed]",
      "text/plain": [
       "<Figure size 432x288 with 1 Axes>"
      ]
     },
     "metadata": {
      "needs_background": "light"
     },
     "output_type": "display_data"
    }
   ],
   "source": [
    "sns.barplot(x='Months',y='tax_amount_mean',data=month_value_df)"
   ]
  },
  {
   "cell_type": "code",
   "execution_count": 24,
   "id": "5fdcaba1",
   "metadata": {},
   "outputs": [
    {
     "data": {
      "image/png": "[encoded data removed]",
      "text/plain": [
       "<Figure size 432x288 with 1 Axes>"
      ]
     },
     "metadata": {
      "needs_background": "light"
     },
     "output_type": "display_data"
    },
    {
     "data": {
      "image/png": "[encoded data removed]",
      "text/plain": [
       "<Figure size 432x288 with 1 Axes>"
      ]
     },
     "metadata": {
      "needs_background": "light"
     },
     "output_type": "display_data"
    },
    {
     "data": {
      "image/png": "[encoded data removed]",
      "text/plain": [
       "<Figure size 432x288 with 1 Axes>"
      ]
     },
     "metadata": {
      "needs_background": "light"
     },
     "output_type": "display_data"
    },
    {
     "data": {
      "image/png": "[encoded data removed]",
      "text/plain": [
       "<Figure size 432x288 with 1 Axes>"
      ]
     },
     "metadata": {
      "needs_background": "light"
     },
     "output_type": "display_data"
    },
    {
     "data": {
      "image/png": "[encoded data removed]",
      "text/plain": [
       "<Figure size 432x288 with 1 Axes>"
      ]
     },
     "metadata": {
      "needs_background": "light"
     },
     "output_type": "display_data"
    },
    {
     "data": {
      "image/png": "[encoded data removed]",
      "text/plain": [
       "<Figure size 432x288 with 1 Axes>"
      ]
     },
     "metadata": {
      "needs_background": "light"
     },
     "output_type": "display_data"
    },
    {
     "data": {
      "image/png": "[encoded data removed]",
      "text/plain": [
       "<Figure size 432x288 with 1 Axes>"
      ]
     },
     "metadata": {
      "needs_background": "light"
     },
     "output_type": "display_data"
    },
    {
     "data": {
      "image/png": "[encoded data removed]",
      "text/plain": [
       "<Figure size 432x288 with 1 Axes>"
      ]
     },
     "metadata": {
      "needs_background": "light"
     },
     "output_type": "display_data"
    },
    {
     "data": {
      "image/png": "[encoded data removed]",
      "text/plain": [
       "<Figure size 432x288 with 1 Axes>"
      ]
     },
     "metadata": {
      "needs_background": "light"
     },
     "output_type": "display_data"
    },
    {
     "data": {
      "image/png": "[encoded data removed]",
      "text/plain": [
       "<Figure size 432x288 with 1 Axes>"
      ]
     },
     "metadata": {
      "needs_background": "light"
     },
     "output_type": "display_data"
    },
    {
     "data": {
      "image/png": "[encoded data removed]",
      "text/plain": [
       "<Figure size 432x288 with 1 Axes>"
      ]
     },
     "metadata": {
      "needs_background": "light"
     },
     "output_type": "display_data"
    },
    {
     "data": {
      "image/png": "[encoded data removed]",
      "text/plain": [
       "<Figure size 432x288 with 1 Axes>"
      ]
     },
     "metadata": {
      "needs_background": "light"
     },
     "output_type": "display_data"
    },
    {
     "data": {
      "image/png": "[encoded data removed]",
      "text/plain": [
       "<Figure size 432x288 with 1 Axes>"
      ]
     },
     "metadata": {
      "needs_background": "light"
     },
     "output_type": "display_data"
    },
    {
     "data": {
      "image/png": "[encoded data removed]",
      "text/plain": [
       "<Figure size 432x288 with 1 Axes>"
      ]
     },
     "metadata": {
      "needs_background": "light"
     },
     "output_type": "display_data"
    },
    {
     "data": {
      "image/png": "[encoded data removed]",
      "text/plain": [
       "<Figure size 432x288 with 1 Axes>"
      ]
     },
     "metadata": {
      "needs_background": "light"
     },
     "output_type": "display_data"
    },
    {
     "data": {
      "image/png": "[encoded data removed]",
      "text/plain": [
       "<Figure size 432x288 with 1 Axes>"
      ]
     },
     "metadata": {
      "needs_background": "light"
     },
     "output_type": "display_data"
    },
    {
     "data": {
      "image/png": "[encoded data removed]",
      "text/plain": [
       "<Figure size 432x288 with 1 Axes>"
      ]
     },
     "metadata": {
      "needs_background": "light"
     },
     "output_type": "display_data"
    }
   ],
   "source": [
    "for col in df.columns:\n",
    "    ax = sns.countplot(x=df[col], hue='month', data=df)\n",
    "    ax.set_xticklabels(ax.get_xticklabels(), rotation=40, ha=\"right\")\n",
    "    plt.show()"
   ]
  },
  {
   "cell_type": "code",
   "execution_count": null,
   "id": "2f0ccd93",
   "metadata": {},
   "outputs": [],
   "source": []
  }
 ],
 "metadata": {
  "kernelspec": {
   "display_name": "Python 3",
   "language": "python",
   "name": "python3"
  },
  "language_info": {
   "codemirror_mode": {
    "name": "ipython",
    "version": 3
   },
   "file_extension": ".py",
   "mimetype": "text/x-python",
   "name": "python",
   "nbconvert_exporter": "python",
   "pygments_lexer": "ipython3",
   "version": "3.8.8"
  }
 },
 "nbformat": 4,
 "nbformat_minor": 5
}
